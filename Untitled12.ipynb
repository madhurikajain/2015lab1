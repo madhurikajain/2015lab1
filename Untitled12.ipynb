{
  "nbformat": 4,
  "nbformat_minor": 0,
  "metadata": {
    "colab": {
      "name": "Untitled12.ipynb",
      "provenance": [],
      "authorship_tag": "ABX9TyNNxzKME/gVxKDILptiBC8g",
      "include_colab_link": true
    },
    "kernelspec": {
      "name": "python3",
      "display_name": "Python 3"
    }
  },
  "cells": [
    {
      "cell_type": "markdown",
      "metadata": {
        "id": "view-in-github",
        "colab_type": "text"
      },
      "source": [
        "<a href=\"https://colab.research.google.com/github/madhurikajain/2015lab1/blob/master/Untitled12.ipynb\" target=\"_parent\"><img src=\"https://colab.research.google.com/assets/colab-badge.svg\" alt=\"Open In Colab\"/></a>"
      ]
    },
    {
      "cell_type": "code",
      "metadata": {
        "id": "NgmX4cl1WMFH",
        "colab_type": "code",
        "colab": {}
      },
      "source": [
        ""
      ],
      "execution_count": null,
      "outputs": []
    },
    {
      "cell_type": "markdown",
      "metadata": {
        "id": "2CJILiPfWNiV",
        "colab_type": "text"
      },
      "source": [
        "$$\\alpha + \\frac{\\beta}{\\gamma} = \\delta$$\n",
        "\n",
        "- hello\n",
        "- groceries\n",
        "\n",
        "1. hello\n",
        "2. good morning\n",
        "100. hi\n",
        "\n",
        "hello i m **bold**, i m a `git status'\n",
        "\n",
        "> and miles to go before i sleep\n"
      ]
    },
    {
      "cell_type": "code",
      "metadata": {
        "id": "NKoOP9c8Xd2D",
        "colab_type": "code",
        "colab": {}
      },
      "source": [
        ""
      ],
      "execution_count": null,
      "outputs": []
    }
  ]
}